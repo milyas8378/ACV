{
  "nbformat": 4,
  "nbformat_minor": 0,
  "metadata": {
    "colab": {
      "provenance": [],
      "gpuType": "T4",
      "authorship_tag": "ABX9TyM8hAnOB3E7S94XWQyDVrdy",
      "include_colab_link": true
    },
    "kernelspec": {
      "name": "python3",
      "display_name": "Python 3"
    },
    "language_info": {
      "name": "python"
    },
    "accelerator": "GPU"
  },
  "cells": [
    {
      "cell_type": "markdown",
      "metadata": {
        "id": "view-in-github",
        "colab_type": "text"
      },
      "source": [
        "<a href=\"https://colab.research.google.com/github/milyas8378/ACV/blob/main/Mastering_ACV.ipynb\" target=\"_parent\"><img src=\"https://colab.research.google.com/assets/colab-badge.svg\" alt=\"Open In Colab\"/></a>"
      ]
    },
    {
      "cell_type": "markdown",
      "source": [
        "# 2-layer CNN built and trained on a CIFAR-10 dataset"
      ],
      "metadata": {
        "id": "t7AkicXAAZwq"
      }
    },
    {
      "cell_type": "markdown",
      "source": [
        "## 1. Set Up Your Environment"
      ],
      "metadata": {
        "id": "6eIFSeLB7Rjm"
      }
    },
    {
      "cell_type": "markdown",
      "source": [
        "- **Choose Platform**: Use Google Colab (preferred for GPU access) or a local environment (e.g., Jupyter Notebook). Colab is ideal given your prior experience troubleshooting in it, such as resolving .env file issues or asyncio errors.\n",
        "- **Install Dependencies**:\n",
        "In Colab, dependencies are pre-installed, but verify versions. Run:"
      ],
      "metadata": {
        "id": "VPNtrEqD7bQS"
      }
    },
    {
      "cell_type": "code",
      "execution_count": null,
      "metadata": {
        "colab": {
          "base_uri": "https://localhost:8080/"
        },
        "id": "QOJlh6Su6rR-",
        "outputId": "13d81f8c-55d2-40f4-c6bc-33250d822b32"
      },
      "outputs": [
        {
          "output_type": "stream",
          "name": "stdout",
          "text": [
            "2.18.0\n",
            "4.11.0\n"
          ]
        }
      ],
      "source": [
        "import tensorflow as tf\n",
        "print(tf.__version__)           # Ensure 2.x (e.g., 2.17.0 as of July 2025)\n",
        "import numpy as np\n",
        "import matplotlib.pyplot as plt\n",
        "import cv2                      # OpenCV for image processing\n",
        "print(cv2.__version__)"
      ]
    },
    {
      "cell_type": "markdown",
      "source": [
        "#### GPU Setup in Colab:"
      ],
      "metadata": {
        "id": "61kgyPhb7sti"
      }
    },
    {
      "cell_type": "markdown",
      "source": [
        "- Go to **Runtime > Change runtime type > Select GPU** to enable GPU acceleration, critical for CNN training.\n",
        "\n",
        "- Verify GPU availability:"
      ],
      "metadata": {
        "id": "jZ8IzZio7xbq"
      }
    },
    {
      "cell_type": "code",
      "source": [
        "print(tf.config.list_physical_devices('GPU'))  # Should list a GPU device"
      ],
      "metadata": {
        "colab": {
          "base_uri": "https://localhost:8080/"
        },
        "id": "FHt50pFD7DdN",
        "outputId": "45c5f704-347d-4074-8b3e-cfcc3974db3d"
      },
      "execution_count": null,
      "outputs": [
        {
          "output_type": "stream",
          "name": "stdout",
          "text": [
            "[PhysicalDevice(name='/physical_device:GPU:0', device_type='GPU')]\n"
          ]
        }
      ]
    },
    {
      "cell_type": "markdown",
      "source": [
        "## 2. Build and Run a 2-Layer CNN"
      ],
      "metadata": {
        "id": "8xBT2xnT8S_q"
      }
    },
    {
      "cell_type": "markdown",
      "source": [
        "- **Dataset**: Use a simple dataset like CIFAR-10 (available in tf.keras.datasets), which you’ve likely worked with in the Deep Learning Specialization. It’s small, well-structured, and ideal for testing.\n",
        "- **Code a 2-Layer CNN**:\n",
        "Below is a minimal TensorFlow model to classify CIFAR-10 images (10 classes, 32x32 RGB images):"
      ],
      "metadata": {
        "id": "PYsu4aGn8ZzI"
      }
    },
    {
      "cell_type": "code",
      "source": [
        "from tensorflow.keras import layers, models\n",
        "\n",
        "# Load CIFAR-10 dataset\n",
        "(x_train, y_train), (x_test, y_test) = tf.keras.datasets.cifar10.load_data()\n",
        "x_train, x_test = x_train / 255.0, x_test / 255.0                               # Normalize pixel values"
      ],
      "metadata": {
        "colab": {
          "base_uri": "https://localhost:8080/"
        },
        "id": "wIexPRyM802Q",
        "outputId": "5c0d77bb-3d8d-4adc-a284-973a5a72a5f6"
      },
      "execution_count": null,
      "outputs": [
        {
          "output_type": "stream",
          "name": "stdout",
          "text": [
            "Downloading data from https://www.cs.toronto.edu/~kriz/cifar-10-python.tar.gz\n",
            "\u001b[1m170498071/170498071\u001b[0m \u001b[32m━━━━━━━━━━━━━━━━━━━━\u001b[0m\u001b[37m\u001b[0m \u001b[1m3s\u001b[0m 0us/step\n"
          ]
        }
      ]
    },
    {
      "cell_type": "code",
      "source": [
        "print(x_train.shape)"
      ],
      "metadata": {
        "colab": {
          "base_uri": "https://localhost:8080/"
        },
        "id": "ykt0fbgq-L29",
        "outputId": "4d2d0d53-c693-4545-8840-a7b41d5c93c0"
      },
      "execution_count": null,
      "outputs": [
        {
          "output_type": "stream",
          "name": "stdout",
          "text": [
            "(50000, 32, 32, 3)\n"
          ]
        }
      ]
    },
    {
      "cell_type": "markdown",
      "source": [
        "Expected output: should be (50000, 32, 32, 3)."
      ],
      "metadata": {
        "id": "jI4fj0mC-RZ9"
      }
    },
    {
      "cell_type": "code",
      "source": [
        "# Build 2-layer CNN\n",
        "model = models.Sequential([\n",
        "    layers.Conv2D(32, (3, 3), activation='relu', input_shape=(32, 32, 3)),\n",
        "    layers.MaxPooling2D((2, 2)),\n",
        "    layers.Conv2D(64, (3, 3), activation='relu'),\n",
        "    layers.MaxPooling2D((2, 2)),\n",
        "    layers.Flatten(),\n",
        "    layers.Dense(128, activation='relu'),\n",
        "    layers.Dense(10, activation='softmax')\n",
        "])"
      ],
      "metadata": {
        "colab": {
          "base_uri": "https://localhost:8080/"
        },
        "id": "YD1eGCy-8U4g",
        "outputId": "aea5ffbc-b44f-4c9e-f5a6-0eef58433f4b"
      },
      "execution_count": null,
      "outputs": [
        {
          "output_type": "stream",
          "name": "stderr",
          "text": [
            "/usr/local/lib/python3.11/dist-packages/keras/src/layers/convolutional/base_conv.py:107: UserWarning: Do not pass an `input_shape`/`input_dim` argument to a layer. When using Sequential models, prefer using an `Input(shape)` object as the first layer in the model instead.\n",
            "  super().__init__(activity_regularizer=activity_regularizer, **kwargs)\n"
          ]
        }
      ]
    },
    {
      "cell_type": "code",
      "source": [
        "# Compile model\n",
        "model.compile(optimizer='adam',\n",
        "              loss='sparse_categorical_crossentropy',\n",
        "              metrics=['accuracy'])"
      ],
      "metadata": {
        "id": "H85QIttL9DBH"
      },
      "execution_count": null,
      "outputs": []
    },
    {
      "cell_type": "code",
      "source": [
        "# Train for 5 epochs\n",
        "history = model.fit(x_train, y_train, epochs=5, validation_data=(x_test, y_test))"
      ],
      "metadata": {
        "colab": {
          "base_uri": "https://localhost:8080/"
        },
        "id": "g8s8VFjs9HNZ",
        "outputId": "c324cd72-0570-495d-9484-b9db515b7d2a"
      },
      "execution_count": null,
      "outputs": [
        {
          "output_type": "stream",
          "name": "stdout",
          "text": [
            "Epoch 1/5\n",
            "\u001b[1m1563/1563\u001b[0m \u001b[32m━━━━━━━━━━━━━━━━━━━━\u001b[0m\u001b[37m\u001b[0m \u001b[1m12s\u001b[0m 5ms/step - accuracy: 0.4061 - loss: 1.6422 - val_accuracy: 0.5925 - val_loss: 1.1418\n",
            "Epoch 2/5\n",
            "\u001b[1m1563/1563\u001b[0m \u001b[32m━━━━━━━━━━━━━━━━━━━━\u001b[0m\u001b[37m\u001b[0m \u001b[1m5s\u001b[0m 3ms/step - accuracy: 0.6240 - loss: 1.0748 - val_accuracy: 0.6560 - val_loss: 0.9762\n",
            "Epoch 3/5\n",
            "\u001b[1m1563/1563\u001b[0m \u001b[32m━━━━━━━━━━━━━━━━━━━━\u001b[0m\u001b[37m\u001b[0m \u001b[1m6s\u001b[0m 4ms/step - accuracy: 0.6852 - loss: 0.9012 - val_accuracy: 0.6785 - val_loss: 0.9394\n",
            "Epoch 4/5\n",
            "\u001b[1m1563/1563\u001b[0m \u001b[32m━━━━━━━━━━━━━━━━━━━━\u001b[0m\u001b[37m\u001b[0m \u001b[1m5s\u001b[0m 3ms/step - accuracy: 0.7244 - loss: 0.7999 - val_accuracy: 0.6875 - val_loss: 0.9072\n",
            "Epoch 5/5\n",
            "\u001b[1m1563/1563\u001b[0m \u001b[32m━━━━━━━━━━━━━━━━━━━━\u001b[0m\u001b[37m\u001b[0m \u001b[1m10s\u001b[0m 4ms/step - accuracy: 0.7519 - loss: 0.7144 - val_accuracy: 0.6931 - val_loss: 0.9145\n"
          ]
        }
      ]
    },
    {
      "cell_type": "code",
      "source": [
        "# Evaluate\n",
        "test_loss, test_acc = model.evaluate(x_test, y_test)\n",
        "print(f\"Test accuracy: {test_acc:.4f}\")"
      ],
      "metadata": {
        "colab": {
          "base_uri": "https://localhost:8080/"
        },
        "id": "IdwVOJFQ9Kmr",
        "outputId": "69a10b27-9333-494f-fd9d-0a37670eee65"
      },
      "execution_count": null,
      "outputs": [
        {
          "output_type": "stream",
          "name": "stdout",
          "text": [
            "\u001b[1m313/313\u001b[0m \u001b[32m━━━━━━━━━━━━━━━━━━━━\u001b[0m\u001b[37m\u001b[0m \u001b[1m1s\u001b[0m 3ms/step - accuracy: 0.6974 - loss: 0.9081\n",
            "Test accuracy: 0.6931\n"
          ]
        }
      ]
    },
    {
      "cell_type": "markdown",
      "source": [
        "- Expected Output: After 5 epochs, expect a test accuracy of ~60–70% (sufficient for testing).\n",
        "- Training should take ~1–2 minutes on Colab’s GPU."
      ],
      "metadata": {
        "id": "ArBP3ty99dj2"
      }
    },
    {
      "cell_type": "code",
      "source": [
        "plt.plot(history.history['accuracy'], label='Train Accuracy')\n",
        "plt.plot(history.history['val_accuracy'], label='Val Accuracy')\n",
        "plt.xlabel('Epoch')\n",
        "plt.ylabel('Accuracy')\n",
        "plt.legend()\n",
        "plt.show()"
      ],
      "metadata": {
        "colab": {
          "base_uri": "https://localhost:8080/",
          "height": 449
        },
        "id": "YmKCIuFG9iYZ",
        "outputId": "61618915-beaf-4635-8719-24fb02bbe370"
      },
      "execution_count": null,
      "outputs": [
        {
          "output_type": "display_data",
          "data": {
            "text/plain": [
              "<Figure size 640x480 with 1 Axes>"
            ],
            "image/png": "[encoded data removed]"
          },
          "metadata": {}
        }
      ]
    },
    {
      "cell_type": "markdown",
      "source": [
        "- **Train Accuracy (blue)**: Rises from ~0.50 to ~0.73, reflecting the model’s learning on the training data.\n",
        "- **Val Accuracy (orange)**: Increases from ~0.50 to ~0.68, indicating performance on the validation set."
      ],
      "metadata": {
        "id": "idafm91AA4Q3"
      }
    },
    {
      "cell_type": "markdown",
      "source": [
        "## 3. Analysis of the 2-Layer CNN Performance\n",
        "\n",
        "- **Achieved Targets**: The graph meets the Week 1 goal of achieving a reasonable accuracy (~60–70%) to validate your setup. The 73% train accuracy and 68% val accuracy are consistent with a basic 2-layer CNN on CIFAR-10 after 4 epochs, aligning with your Deep Learning Specialization experience.\n",
        "\n",
        "- **Learning Curve**: The steady rise in both train and val accuracy suggests the model is learning effectively, with the Adam optimizer and sparse categorical cross-entropy loss functioning as expected.\n",
        "\n",
        "- **Train-Val Gap**: The ~5% difference (73% vs. 68%) is minor, indicating no significant overfitting within 4 epochs. However, the plateauing trend suggests diminishing returns, a concept you’ve encountered in the Machine Learning Specialization when tuning models.\n"
      ],
      "metadata": {
        "id": "NDZ4OrE8BOag"
      }
    },
    {
      "cell_type": "markdown",
      "source": [
        "This plateauing trend indicates that additional epochs are yielding progressively smaller improvements in performance, a phenomenon known as **diminishing returns**.\n",
        "\n",
        "**Diminishing Returns**: In machine learning, diminishing returns occur when the benefit (e.g., increase in accuracy) from additional training epochs, data, or computational resources decreases as you approach the model’s capacity or the dataset’s inherent limits. This is often due to the model reaching a point where it has learned most of the generalizable patterns, and further training only refines minor details or risks overfitting."
      ],
      "metadata": {
        "id": "2uLaXpKwCSIl"
      }
    },
    {
      "cell_type": "markdown",
      "source": [
        "## 4. Implications for Your 2-Layer CNN\n",
        "\n",
        "- **Current State**: The plateau at 73% train accuracy and 68% val accuracy after 4 epochs suggests your simple CNN has reached its learning capacity for the current setup (e.g., CIFAR-10 with default preprocessing). The model likely captured the dominant features (e.g., edges, textures) but struggles with finer details due to its limited architecture (2 conv layers).\n",
        "- **Risk of Overfitting**: Continuing to train without changes could widen the train-val gap, as the model memorizes training data noise, a scenario you’ve mitigated in the past with regularization techniques from the specialization.\n",
        "- **Diminishing Returns in Action**: The small gain from epoch 3 to 4 (e.g., ~1–2% on validation) exemplifies diminishing returns. Adding more epochs (e.g., to 10) might push val accuracy to ~70%, but the effort may not justify the result unless the model or data is enhanced."
      ],
      "metadata": {
        "id": "wBIZWag2DSWb"
      }
    },
    {
      "cell_type": "markdown",
      "source": [
        "## 4. Strategies to Address Diminishing Returns\n",
        "\n",
        "Drawing on your Machine Learning Specialization knowledge, you can apply the following to improve beyond the plateau, preparing for the course’s advanced tasks:\n",
        "\n",
        "- **Increase Model Capacity**: Add layers or filters (e.g., a third Conv2D layer with 128 filters), a technique you practiced when building deeper networks. This increases the model’s ability to learn complex patterns, though it requires more data to avoid overfitting.\n",
        "- **Hyperparameter Tuning**: Adjust the learning rate (e.g., reduce from 0.001 to 0.0001) or batch size (e.g., from 32 to 64), as you did in optimization exercises. Use grid search or random search to find the sweet spot.\n",
        "- **Regularization**: Add dropout (e.g., 20–30%) or L2 regularization to the dense layers, a method you’re familiar with to prevent overfitting and sustain learning gains.\n",
        "- **Data Augmentation**: Apply transformations (e.g., random flips, crops) using *tf.image*, enhancing dataset variety and delaying the plateau, a practice you encountered in deep learning contexts.\n",
        "- **Early Stopping**: Monitor validation accuracy and stop training when it ceases to improve (e.g., after 2 epochs with no gain), a technique from the specialization to optimize resource use.\n",
        "- **Learning Rate Scheduling**: Use a decay schedule (e.g., reduce learning rate by 10% every few epochs) to fine-tune learning as accuracy plateaus, aligning with your optimization knowledge."
      ],
      "metadata": {
        "id": "FA5ENlMmD4Zg"
      }
    },
    {
      "cell_type": "code",
      "source": [],
      "metadata": {
        "id": "Ep3a3DPQ-lio"
      },
      "execution_count": null,
      "outputs": []
    }
  ]
}
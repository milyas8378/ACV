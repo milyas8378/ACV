{
  "nbformat": 4,
  "nbformat_minor": 0,
  "metadata": {
    "colab": {
      "provenance": [],
      "gpuType": "T4",
      "authorship_tag": "ABX9TyMAkuRFGPVkKsngYijpAYtj",
      "include_colab_link": true
    },
    "kernelspec": {
      "name": "python3",
      "display_name": "Python 3"
    },
    "language_info": {
      "name": "python"
    },
    "accelerator": "GPU"
  },
  "cells": [
    {
      "cell_type": "markdown",
      "metadata": {
        "id": "view-in-github",
        "colab_type": "text"
      },
      "source": [
        "<a href=\"https://colab.research.google.com/github/milyas8378/ACV/blob/main/Mastering_ACV_Dropout.ipynb\" target=\"_parent\"><img src=\"https://colab.research.google.com/assets/colab-badge.svg\" alt=\"Open In Colab\"/></a>"
      ]
    },
    {
      "cell_type": "markdown",
      "source": [
        "# 2-layer CNN built and trained on a CIFAR-10 dataset"
      ],
      "metadata": {
        "id": "t7AkicXAAZwq"
      }
    },
    {
      "cell_type": "markdown",
      "source": [
        "## 1. Set Up Your Environment"
      ],
      "metadata": {
        "id": "6eIFSeLB7Rjm"
      }
    },
    {
      "cell_type": "markdown",
      "source": [
        "- **Choose Platform**: Use Google Colab (preferred for GPU access) or a local environment (e.g., Jupyter Notebook). Colab is ideal given your prior experience troubleshooting in it, such as resolving .env file issues or asyncio errors.\n",
        "- **Install Dependencies**:\n",
        "In Colab, dependencies are pre-installed, but verify versions. Run:"
      ],
      "metadata": {
        "id": "VPNtrEqD7bQS"
      }
    },
    {
      "cell_type": "code",
      "execution_count": 1,
      "metadata": {
        "colab": {
          "base_uri": "https://localhost:8080/"
        },
        "id": "QOJlh6Su6rR-",
        "outputId": "16053676-e841-4bce-d3b8-1d05a38b1888"
      },
      "outputs": [
        {
          "output_type": "stream",
          "name": "stdout",
          "text": [
            "2.18.0\n",
            "4.11.0\n"
          ]
        }
      ],
      "source": [
        "import tensorflow as tf\n",
        "print(tf.__version__)           # Ensure 2.x (e.g., 2.17.0 as of July 2025)\n",
        "import numpy as np\n",
        "import matplotlib.pyplot as plt\n",
        "import cv2                      # OpenCV for image processing\n",
        "print(cv2.__version__)"
      ]
    },
    {
      "cell_type": "markdown",
      "source": [
        "#### GPU Setup in Colab:"
      ],
      "metadata": {
        "id": "61kgyPhb7sti"
      }
    },
    {
      "cell_type": "markdown",
      "source": [
        "- Go to **Runtime > Change runtime type > Select GPU** to enable GPU acceleration, critical for CNN training.\n",
        "\n",
        "- Verify GPU availability:"
      ],
      "metadata": {
        "id": "jZ8IzZio7xbq"
      }
    },
    {
      "cell_type": "code",
      "source": [
        "print(tf.config.list_physical_devices('GPU'))  # Should list a GPU device"
      ],
      "metadata": {
        "colab": {
          "base_uri": "https://localhost:8080/"
        },
        "id": "FHt50pFD7DdN",
        "outputId": "b83d0aa3-b1bc-4bc9-fb76-066a24989ff7"
      },
      "execution_count": 2,
      "outputs": [
        {
          "output_type": "stream",
          "name": "stdout",
          "text": [
            "[PhysicalDevice(name='/physical_device:GPU:0', device_type='GPU')]\n"
          ]
        }
      ]
    },
    {
      "cell_type": "markdown",
      "source": [
        "## 2. Build and Run a 2-Layer CNN"
      ],
      "metadata": {
        "id": "8xBT2xnT8S_q"
      }
    },
    {
      "cell_type": "markdown",
      "source": [
        "- **Dataset**: Use a simple dataset like CIFAR-10 (available in tf.keras.datasets), which you’ve likely worked with in the Deep Learning Specialization. It’s small, well-structured, and ideal for testing.\n",
        "- **Code a 2-Layer CNN**:\n",
        "Below is a minimal TensorFlow model to classify CIFAR-10 images (10 classes, 32x32 RGB images):"
      ],
      "metadata": {
        "id": "PYsu4aGn8ZzI"
      }
    },
    {
      "cell_type": "code",
      "source": [
        "from tensorflow.keras import layers, models\n",
        "\n",
        "# Load CIFAR-10 dataset\n",
        "(x_train, y_train), (x_test, y_test) = tf.keras.datasets.cifar10.load_data()\n",
        "x_train, x_test = x_train / 255.0, x_test / 255.0                               # Normalize pixel values"
      ],
      "metadata": {
        "colab": {
          "base_uri": "https://localhost:8080/"
        },
        "id": "wIexPRyM802Q",
        "outputId": "468b454a-613c-42f5-b431-59c3880abf63"
      },
      "execution_count": 3,
      "outputs": [
        {
          "output_type": "stream",
          "name": "stdout",
          "text": [
            "Downloading data from https://www.cs.toronto.edu/~kriz/cifar-10-python.tar.gz\n",
            "\u001b[1m170498071/170498071\u001b[0m \u001b[32m━━━━━━━━━━━━━━━━━━━━\u001b[0m\u001b[37m\u001b[0m \u001b[1m4s\u001b[0m 0us/step\n"
          ]
        }
      ]
    },
    {
      "cell_type": "code",
      "source": [
        "print(x_train.shape)"
      ],
      "metadata": {
        "colab": {
          "base_uri": "https://localhost:8080/"
        },
        "id": "ykt0fbgq-L29",
        "outputId": "94ebbaff-8205-4185-c7d1-1bc6273c570f"
      },
      "execution_count": 4,
      "outputs": [
        {
          "output_type": "stream",
          "name": "stdout",
          "text": [
            "(50000, 32, 32, 3)\n"
          ]
        }
      ]
    },
    {
      "cell_type": "markdown",
      "source": [
        "Expected output: should be (50000, 32, 32, 3)."
      ],
      "metadata": {
        "id": "jI4fj0mC-RZ9"
      }
    },
    {
      "cell_type": "code",
      "source": [
        "# Build 2-layer CNN\n",
        "model = models.Sequential([\n",
        "    layers.Conv2D(32, (3, 3), activation='relu', input_shape=(32, 32, 3)),\n",
        "    layers.MaxPooling2D((2, 2)),\n",
        "    layers.Conv2D(64, (3, 3), activation='relu'),\n",
        "    layers.MaxPooling2D((2, 2)),\n",
        "    layers.Flatten(),\n",
        "    layers.Dense(128, activation='relu'),\n",
        "    layers.Dropout(0.2),                                  # 20% dropout\n",
        "    layers.Dense(10, activation='softmax')\n",
        "])"
      ],
      "metadata": {
        "colab": {
          "base_uri": "https://localhost:8080/"
        },
        "id": "YD1eGCy-8U4g",
        "outputId": "0c968cb5-f5fb-4885-e7cb-4f322c1a1ee4"
      },
      "execution_count": 5,
      "outputs": [
        {
          "output_type": "stream",
          "name": "stderr",
          "text": [
            "/usr/local/lib/python3.11/dist-packages/keras/src/layers/convolutional/base_conv.py:107: UserWarning: Do not pass an `input_shape`/`input_dim` argument to a layer. When using Sequential models, prefer using an `Input(shape)` object as the first layer in the model instead.\n",
            "  super().__init__(activity_regularizer=activity_regularizer, **kwargs)\n"
          ]
        }
      ]
    },
    {
      "cell_type": "code",
      "source": [
        "# Compile model\n",
        "model.compile(optimizer='adam',\n",
        "              loss='sparse_categorical_crossentropy',\n",
        "              metrics=['accuracy'])"
      ],
      "metadata": {
        "id": "H85QIttL9DBH"
      },
      "execution_count": 6,
      "outputs": []
    },
    {
      "cell_type": "code",
      "source": [
        "# Train for 10 epochs\n",
        "history = model.fit(x_train, y_train, epochs=10, validation_data=(x_test, y_test))"
      ],
      "metadata": {
        "colab": {
          "base_uri": "https://localhost:8080/"
        },
        "id": "g8s8VFjs9HNZ",
        "outputId": "8dad776e-ca16-42e3-8aaa-03fb27c893e4"
      },
      "execution_count": 7,
      "outputs": [
        {
          "output_type": "stream",
          "name": "stdout",
          "text": [
            "Epoch 1/10\n",
            "\u001b[1m1563/1563\u001b[0m \u001b[32m━━━━━━━━━━━━━━━━━━━━\u001b[0m\u001b[37m\u001b[0m \u001b[1m14s\u001b[0m 6ms/step - accuracy: 0.3806 - loss: 1.6934 - val_accuracy: 0.5915 - val_loss: 1.1549\n",
            "Epoch 2/10\n",
            "\u001b[1m1563/1563\u001b[0m \u001b[32m━━━━━━━━━━━━━━━━━━━━\u001b[0m\u001b[37m\u001b[0m \u001b[1m6s\u001b[0m 4ms/step - accuracy: 0.5876 - loss: 1.1629 - val_accuracy: 0.6448 - val_loss: 1.0196\n",
            "Epoch 3/10\n",
            "\u001b[1m1563/1563\u001b[0m \u001b[32m━━━━━━━━━━━━━━━━━━━━\u001b[0m\u001b[37m\u001b[0m \u001b[1m11s\u001b[0m 4ms/step - accuracy: 0.6518 - loss: 0.9961 - val_accuracy: 0.6669 - val_loss: 0.9795\n",
            "Epoch 4/10\n",
            "\u001b[1m1563/1563\u001b[0m \u001b[32m━━━━━━━━━━━━━━━━━━━━\u001b[0m\u001b[37m\u001b[0m \u001b[1m6s\u001b[0m 4ms/step - accuracy: 0.6874 - loss: 0.8888 - val_accuracy: 0.6933 - val_loss: 0.8960\n",
            "Epoch 5/10\n",
            "\u001b[1m1563/1563\u001b[0m \u001b[32m━━━━━━━━━━━━━━━━━━━━\u001b[0m\u001b[37m\u001b[0m \u001b[1m10s\u001b[0m 3ms/step - accuracy: 0.7159 - loss: 0.8120 - val_accuracy: 0.6849 - val_loss: 0.9163\n",
            "Epoch 6/10\n",
            "\u001b[1m1563/1563\u001b[0m \u001b[32m━━━━━━━━━━━━━━━━━━━━\u001b[0m\u001b[37m\u001b[0m \u001b[1m10s\u001b[0m 3ms/step - accuracy: 0.7361 - loss: 0.7598 - val_accuracy: 0.7050 - val_loss: 0.8620\n",
            "Epoch 7/10\n",
            "\u001b[1m1563/1563\u001b[0m \u001b[32m━━━━━━━━━━━━━━━━━━━━\u001b[0m\u001b[37m\u001b[0m \u001b[1m10s\u001b[0m 4ms/step - accuracy: 0.7608 - loss: 0.6803 - val_accuracy: 0.7152 - val_loss: 0.8600\n",
            "Epoch 8/10\n",
            "\u001b[1m1563/1563\u001b[0m \u001b[32m━━━━━━━━━━━━━━━━━━━━\u001b[0m\u001b[37m\u001b[0m \u001b[1m11s\u001b[0m 4ms/step - accuracy: 0.7719 - loss: 0.6376 - val_accuracy: 0.7063 - val_loss: 0.8866\n",
            "Epoch 9/10\n",
            "\u001b[1m1563/1563\u001b[0m \u001b[32m━━━━━━━━━━━━━━━━━━━━\u001b[0m\u001b[37m\u001b[0m \u001b[1m6s\u001b[0m 4ms/step - accuracy: 0.7877 - loss: 0.5919 - val_accuracy: 0.7127 - val_loss: 0.8791\n",
            "Epoch 10/10\n",
            "\u001b[1m1563/1563\u001b[0m \u001b[32m━━━━━━━━━━━━━━━━━━━━\u001b[0m\u001b[37m\u001b[0m \u001b[1m10s\u001b[0m 3ms/step - accuracy: 0.7990 - loss: 0.5621 - val_accuracy: 0.7200 - val_loss: 0.8804\n"
          ]
        }
      ]
    },
    {
      "cell_type": "code",
      "source": [
        "# Evaluate\n",
        "test_loss, test_acc = model.evaluate(x_test, y_test)\n",
        "print(f\"Test accuracy: {test_acc:.4f}\")"
      ],
      "metadata": {
        "colab": {
          "base_uri": "https://localhost:8080/"
        },
        "id": "IdwVOJFQ9Kmr",
        "outputId": "13cf26fc-3441-4f21-bc63-998ce678434e"
      },
      "execution_count": 8,
      "outputs": [
        {
          "output_type": "stream",
          "name": "stdout",
          "text": [
            "\u001b[1m313/313\u001b[0m \u001b[32m━━━━━━━━━━━━━━━━━━━━\u001b[0m\u001b[37m\u001b[0m \u001b[1m1s\u001b[0m 2ms/step - accuracy: 0.7275 - loss: 0.8649\n",
            "Test accuracy: 0.7200\n"
          ]
        }
      ]
    },
    {
      "cell_type": "code",
      "source": [
        "plt.plot(history.history['accuracy'], label='Train Accuracy')\n",
        "plt.plot(history.history['val_accuracy'], label='Val Accuracy')\n",
        "plt.xlabel('Epoch')\n",
        "plt.ylabel('Accuracy')\n",
        "plt.legend()\n",
        "plt.show()"
      ],
      "metadata": {
        "colab": {
          "base_uri": "https://localhost:8080/",
          "height": 449
        },
        "id": "YmKCIuFG9iYZ",
        "outputId": "95cb0b26-9641-4119-9bfc-686e8ee57ce0"
      },
      "execution_count": 9,
      "outputs": [
        {
          "output_type": "display_data",
          "data": {
            "text/plain": [
              "<Figure size 640x480 with 1 Axes>"
            ],
            "image/png": "[encoded data removed]"
          },
          "metadata": {}
        }
      ]
    },
    {
      "cell_type": "markdown",
      "source": [
        "- **Train Accuracy (blue)**: Rises from ~0.50 to ~0.73\n",
        "- **Val Accuracy (orange)**: Increases from ~0.50 to ~0.68"
      ],
      "metadata": {
        "id": "idafm91AA4Q3"
      }
    },
    {
      "cell_type": "markdown",
      "source": [
        "## 3. Analysis of the 2-Layer CNN Performance - Dropout 20% - 10 Epochs\n",
        "\n",
        "- **Train Accuracy**:\n",
        "   - Previous: 73% (4 epochs)\n",
        "   - New: 78% (10 epochs)\n",
        "   - Difference: +5%\n",
        "\n",
        "- **Val Accuracy**:\n",
        "   - Previous: 68% (4 epochs)\n",
        "   - New: 71% (10 epochs)\n",
        "   - Difference: +3%\n",
        "\n",
        "- **Train-Val Gap**:\n",
        "\n",
        " - Previous: ~5% (73% vs. 68%)\n",
        " - New: ~7% (78% - 71%)\n",
        " - Difference: +2%\n"
      ],
      "metadata": {
        "id": "NDZ4OrE8BOag"
      }
    },
    {
      "cell_type": "markdown",
      "source": [
        "- **Impact of Dropout**:\n",
        "   - The 20% dropout (randomly deactivating 20% of neurons during training) acts as a regularization technique, preventing the model from overfitting to the training data. This is consistent with your Deep Learning Specialization learnings, where dropout was shown to improve generalization by reducing co-adaptation of neurons.\n",
        "   - The new train accuracy (78%) is higher than the previous 73%, but the increase is moderated by dropout, which sacrifices some training performance for better validation results.\n",
        "\n",
        "- **Effect of Extended Epochs**:\n",
        "\n",
        "   - Training for 10 epochs allowed the model to learn more features, pushing val accuracy from 68% to 71%. This aligns with your Machine Learning Specialization experience, where longer training often improves performance up to a point, though the gains diminish as seen in the plateauing trend of the previous run.\n",
        "   - The new graph shows a more gradual rise after epoch 6, suggesting the model approached its capacity with the current architecture, but dropout helped sustain learning without a sharp plateau."
      ],
      "metadata": {
        "id": "2uLaXpKwCSIl"
      }
    },
    {
      "cell_type": "code",
      "source": [],
      "metadata": {
        "id": "Ep3a3DPQ-lio"
      },
      "execution_count": null,
      "outputs": []
    }
  ]
}